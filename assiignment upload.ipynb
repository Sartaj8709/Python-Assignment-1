{
  "metadata": {
    "kernelspec": {
      "name": "python",
      "display_name": "Python (Pyodide)",
      "language": "python"
    },
    "language_info": {
      "codemirror_mode": {
        "name": "python",
        "version": 3
      },
      "file_extension": ".py",
      "mimetype": "text/x-python",
      "name": "python",
      "nbconvert_exporter": "python",
      "pygments_lexer": "ipython3",
      "version": "3.8"
    }
  },
  "nbformat_minor": 4,
  "nbformat": 4,
  "cells": [
    {
      "cell_type": "markdown",
      "source": "Q1))",
      "metadata": {}
    },
    {
      "cell_type": "code",
      "source": "\"\"\"def keyword is used to creat a function \"\"\"\ndef odd():\n    m=[]\n    l= range(1,25)\n    for i in l:\n        if i%2!=0:\n            m.append(i)\n    return m\n            \n        ",
      "metadata": {},
      "execution_count": 8,
      "outputs": []
    },
    {
      "cell_type": "code",
      "source": "odd()",
      "metadata": {},
      "execution_count": 9,
      "outputs": [
        {
          "execution_count": 9,
          "output_type": "execute_result",
          "data": {
            "text/plain": [
              "[1, 3, 5, 7, 9, 11, 13, 15, 17, 19, 21, 23]"
            ]
          },
          "metadata": {}
        }
      ]
    },
    {
      "cell_type": "code",
      "source": "",
      "metadata": {},
      "execution_count": null,
      "outputs": []
    },
    {
      "cell_type": "markdown",
      "source": "Q2))",
      "metadata": {}
    },
    {
      "cell_type": "code",
      "source": "\"\"\" *args are used to pass the values in a function without specifying at the time of defining the function that how many arguments is to be \npassed in the function and **kwargs is also used to pass values in function without specifying at the time of defining the function that how\nmany values will be passed but in case of **kwargs we pass values with key value pair but in *arg we pass just values.\nin case of *args we get output in tuple form and in case of **kwarg we get return value in dictioonary form \"\"\"\n\ndef fun_arg(*arg):\n    return arg\nfun_arg(5,6,7,8,[7,5,6,7],{3,4,5},(3,4,5))",
      "metadata": {},
      "execution_count": 10,
      "outputs": [
        {
          "execution_count": 10,
          "output_type": "execute_result",
          "data": {
            "text/plain": [
              "(5, 6, 7, 8, [7, 5, 6, 7], {3, 4, 5}, (3, 4, 5))"
            ]
          },
          "metadata": {}
        }
      ]
    },
    {
      "cell_type": "code",
      "source": "def fun_kwarg(**kwarg):\n    return kwarg\nfun_kwarg(a=6,b=6,c=9,g=[3,45])",
      "metadata": {},
      "execution_count": 11,
      "outputs": [
        {
          "execution_count": 11,
          "output_type": "execute_result",
          "data": {
            "text/plain": [
              "{'a': 6, 'b': 6, 'c': 9, 'g': [3, 45]}"
            ]
          },
          "metadata": {}
        }
      ]
    },
    {
      "cell_type": "code",
      "source": "",
      "metadata": {},
      "execution_count": null,
      "outputs": []
    },
    {
      "cell_type": "markdown",
      "source": "Q3))",
      "metadata": {}
    },
    {
      "cell_type": "markdown",
      "source": "An object is said to be an  itertaor if we can iterate over it that is  we can print the elements of the variable one after another\nto initialize the iterator just use the iter keyword to convert the variable in itertor if the variable is iterable.\nand to iterate the values use next(iterablename) keyword to print the values \n\n",
      "metadata": {}
    },
    {
      "cell_type": "code",
      "source": "l=[2,4,6,8,10,12,14,16,18,20]\np=iter(l)\nfor i in range(5):\n    print(next(p))",
      "metadata": {},
      "execution_count": 47,
      "outputs": [
        {
          "name": "stdout",
          "output_type": "stream",
          "text": "2\n\n4\n\n6\n\n8\n\n10\n"
        }
      ]
    },
    {
      "cell_type": "code",
      "source": " ",
      "metadata": {},
      "execution_count": null,
      "outputs": []
    },
    {
      "cell_type": "markdown",
      "source": "Q4))",
      "metadata": {}
    },
    {
      "cell_type": "markdown",
      "source": "Afunction which has yield keyword becomes generator function \ngenerator function is a special type of function which is used to print values in a series.\nyield keyword is used to throw the value out.\n\n",
      "metadata": {}
    },
    {
      "cell_type": "code",
      "source": "def fun(n):\n    a,b=1,2\n    for i in range(n):\n        a,b=b,a*b\n        yield a\n        ",
      "metadata": {},
      "execution_count": 59,
      "outputs": []
    },
    {
      "cell_type": "code",
      "source": "l=fun(6)",
      "metadata": {},
      "execution_count": 60,
      "outputs": []
    },
    {
      "cell_type": "code",
      "source": "for i in range(6):\n    print(next(l))",
      "metadata": {},
      "execution_count": 61,
      "outputs": [
        {
          "name": "stdout",
          "output_type": "stream",
          "text": "2\n\n2\n\n4\n\n8\n\n32\n\n256\n"
        }
      ]
    },
    {
      "cell_type": "markdown",
      "source": "",
      "metadata": {}
    },
    {
      "cell_type": "markdown",
      "source": "Q5))",
      "metadata": {}
    },
    {
      "cell_type": "code",
      "source": "",
      "metadata": {},
      "execution_count": null,
      "outputs": []
    },
    {
      "cell_type": "code",
      "source": "",
      "metadata": {},
      "execution_count": null,
      "outputs": []
    },
    {
      "cell_type": "markdown",
      "source": "Q6))",
      "metadata": {}
    },
    {
      "cell_type": "code",
      "source": "def fib():\n    a,b=0,1\n    while True:\n        a,b=b,a+b\n        yield a",
      "metadata": {},
      "execution_count": 55,
      "outputs": []
    },
    {
      "cell_type": "code",
      "source": "s=fib()",
      "metadata": {},
      "execution_count": 56,
      "outputs": []
    },
    {
      "cell_type": "code",
      "source": "for i in range(10):\n    print(next(s))",
      "metadata": {},
      "execution_count": 57,
      "outputs": [
        {
          "name": "stdout",
          "output_type": "stream",
          "text": "1\n\n1\n\n2\n\n3\n\n5\n\n8\n\n13\n\n21\n\n34\n\n55\n"
        }
      ]
    },
    {
      "cell_type": "code",
      "source": "",
      "metadata": {},
      "execution_count": null,
      "outputs": []
    },
    {
      "cell_type": "markdown",
      "source": "Q7))",
      "metadata": {}
    },
    {
      "cell_type": "code",
      "source": "l=[i for i in \"pwskills\"]",
      "metadata": {},
      "execution_count": 70,
      "outputs": []
    },
    {
      "cell_type": "code",
      "source": "l",
      "metadata": {},
      "execution_count": 71,
      "outputs": [
        {
          "execution_count": 71,
          "output_type": "execute_result",
          "data": {
            "text/plain": [
              "['p', 'w', 's', 'k', 'i', 'l', 'l', 's']"
            ]
          },
          "metadata": {}
        }
      ]
    },
    {
      "cell_type": "code",
      "source": "",
      "metadata": {},
      "execution_count": null,
      "outputs": []
    },
    {
      "cell_type": "markdown",
      "source": "Q 8))",
      "metadata": {}
    },
    {
      "cell_type": "code",
      "source": "x=input()\ny=[]\n\nz=[]\n\ni,j=0,0\nwhile i<len(x):\n    y.append(x[i])\n    \n    i=i+1\n    z.append(x[(len(x)-j-1)])\n    j=j+1\nif y==z:\n    print(\"your number is palindromic\")\nelse:\n    print(\"your number is not palindromic\")",
      "metadata": {},
      "execution_count": 4,
      "outputs": [
        {
          "name": "stdin",
          "output_type": "stream",
          "text": " 666676666\n"
        },
        {
          "name": "stdout",
          "output_type": "stream",
          "text": "your number is palindromic\n"
        }
      ]
    },
    {
      "cell_type": "code",
      "source": "",
      "metadata": {},
      "execution_count": null,
      "outputs": []
    },
    {
      "cell_type": "markdown",
      "source": "Q9))",
      "metadata": {}
    },
    {
      "cell_type": "code",
      "source": "numbers=[i for i in range(1,101)]",
      "metadata": {},
      "execution_count": 5,
      "outputs": []
    },
    {
      "cell_type": "code",
      "source": "[j for j in numbers if j%2!=0]",
      "metadata": {},
      "execution_count": 8,
      "outputs": [
        {
          "execution_count": 8,
          "output_type": "execute_result",
          "data": {
            "text/plain": [
              "[1,\n",
              " 3,\n",
              " 5,\n",
              " 7,\n",
              " 9,\n",
              " 11,\n",
              " 13,\n",
              " 15,\n",
              " 17,\n",
              " 19,\n",
              " 21,\n",
              " 23,\n",
              " 25,\n",
              " 27,\n",
              " 29,\n",
              " 31,\n",
              " 33,\n",
              " 35,\n",
              " 37,\n",
              " 39,\n",
              " 41,\n",
              " 43,\n",
              " 45,\n",
              " 47,\n",
              " 49,\n",
              " 51,\n",
              " 53,\n",
              " 55,\n",
              " 57,\n",
              " 59,\n",
              " 61,\n",
              " 63,\n",
              " 65,\n",
              " 67,\n",
              " 69,\n",
              " 71,\n",
              " 73,\n",
              " 75,\n",
              " 77,\n",
              " 79,\n",
              " 81,\n",
              " 83,\n",
              " 85,\n",
              " 87,\n",
              " 89,\n",
              " 91,\n",
              " 93,\n",
              " 95,\n",
              " 97,\n",
              " 99]"
            ]
          },
          "metadata": {}
        }
      ]
    },
    {
      "cell_type": "code",
      "source": "",
      "metadata": {},
      "execution_count": null,
      "outputs": []
    }
  ]
}